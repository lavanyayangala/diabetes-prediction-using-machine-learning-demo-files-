{
 "cells": [
  {
   "cell_type": "markdown",
   "id": "confused-showcase",
   "metadata": {},
   "source": [
    "import libraries"
   ]
  },
  {
   "cell_type": "code",
   "execution_count": 11,
   "id": "inside-spectrum",
   "metadata": {},
   "outputs": [],
   "source": [
    "import pandas as pd\n",
    "import numpy as np\n",
    "import matplotlib.pyplot as plt\n",
    "import seaborn as sns\n",
    "\n",
    "\n",
    "from sklearn.model_selection import train_test_split\n",
    "from sklearn.preprocessing import StandardScaler\n",
    "from sklearn.metrics import confusion_matrix\n",
    "\n",
    "from sklearn.neighbors import KNeighborsClassifier\n",
    "from sklearn.svm import SVC\n",
    "from sklearn.naive_bayes import GaussianNB\n",
    "from sklearn.ensemble import RandomForestClassifier\n"
   ]
  },
  {
   "cell_type": "markdown",
   "id": "constitutional-hampton",
   "metadata": {},
   "source": [
    "Loading Dataset"
   ]
  },
  {
   "cell_type": "code",
   "execution_count": 12,
   "id": "expired-document",
   "metadata": {},
   "outputs": [
    {
     "name": "stdout",
     "output_type": "stream",
     "text": [
      "Shape (768, 9)\n"
     ]
    },
    {
     "data": {
      "text/html": [
       "<div>\n",
       "<style scoped>\n",
       "    .dataframe tbody tr th:only-of-type {\n",
       "        vertical-align: middle;\n",
       "    }\n",
       "\n",
       "    .dataframe tbody tr th {\n",
       "        vertical-align: top;\n",
       "    }\n",
       "\n",
       "    .dataframe thead th {\n",
       "        text-align: right;\n",
       "    }\n",
       "</style>\n",
       "<table border=\"1\" class=\"dataframe\">\n",
       "  <thead>\n",
       "    <tr style=\"text-align: right;\">\n",
       "      <th></th>\n",
       "      <th>Pregnancies</th>\n",
       "      <th>Glucose</th>\n",
       "      <th>BloodPressure</th>\n",
       "      <th>SkinThickness</th>\n",
       "      <th>Insulin</th>\n",
       "      <th>BMI</th>\n",
       "      <th>DiabetesPedigreeFunction</th>\n",
       "      <th>Age</th>\n",
       "      <th>Outcome</th>\n",
       "    </tr>\n",
       "  </thead>\n",
       "  <tbody>\n",
       "    <tr>\n",
       "      <th>0</th>\n",
       "      <td>6</td>\n",
       "      <td>148</td>\n",
       "      <td>72</td>\n",
       "      <td>35</td>\n",
       "      <td>0</td>\n",
       "      <td>33.6</td>\n",
       "      <td>0.627</td>\n",
       "      <td>50</td>\n",
       "      <td>1</td>\n",
       "    </tr>\n",
       "    <tr>\n",
       "      <th>1</th>\n",
       "      <td>1</td>\n",
       "      <td>85</td>\n",
       "      <td>66</td>\n",
       "      <td>29</td>\n",
       "      <td>0</td>\n",
       "      <td>26.6</td>\n",
       "      <td>0.351</td>\n",
       "      <td>31</td>\n",
       "      <td>0</td>\n",
       "    </tr>\n",
       "    <tr>\n",
       "      <th>2</th>\n",
       "      <td>8</td>\n",
       "      <td>183</td>\n",
       "      <td>64</td>\n",
       "      <td>0</td>\n",
       "      <td>0</td>\n",
       "      <td>23.3</td>\n",
       "      <td>0.672</td>\n",
       "      <td>32</td>\n",
       "      <td>1</td>\n",
       "    </tr>\n",
       "    <tr>\n",
       "      <th>3</th>\n",
       "      <td>1</td>\n",
       "      <td>89</td>\n",
       "      <td>66</td>\n",
       "      <td>23</td>\n",
       "      <td>94</td>\n",
       "      <td>28.1</td>\n",
       "      <td>0.167</td>\n",
       "      <td>21</td>\n",
       "      <td>0</td>\n",
       "    </tr>\n",
       "    <tr>\n",
       "      <th>4</th>\n",
       "      <td>0</td>\n",
       "      <td>137</td>\n",
       "      <td>40</td>\n",
       "      <td>35</td>\n",
       "      <td>168</td>\n",
       "      <td>43.1</td>\n",
       "      <td>2.288</td>\n",
       "      <td>33</td>\n",
       "      <td>1</td>\n",
       "    </tr>\n",
       "  </tbody>\n",
       "</table>\n",
       "</div>"
      ],
      "text/plain": [
       "   Pregnancies  Glucose  BloodPressure  SkinThickness  Insulin   BMI  \\\n",
       "0            6      148             72             35        0  33.6   \n",
       "1            1       85             66             29        0  26.6   \n",
       "2            8      183             64              0        0  23.3   \n",
       "3            1       89             66             23       94  28.1   \n",
       "4            0      137             40             35      168  43.1   \n",
       "\n",
       "   DiabetesPedigreeFunction  Age  Outcome  \n",
       "0                     0.627   50        1  \n",
       "1                     0.351   31        0  \n",
       "2                     0.672   32        1  \n",
       "3                     0.167   21        0  \n",
       "4                     2.288   33        1  "
      ]
     },
     "execution_count": 12,
     "metadata": {},
     "output_type": "execute_result"
    }
   ],
   "source": [
    "df=pd.read_csv('diabetes.csv')\n",
    "print(\"Shape\",df.shape)\n",
    "df.head()"
   ]
  },
  {
   "cell_type": "markdown",
   "id": "lesser-velvet",
   "metadata": {},
   "source": [
    "Measuring the statistical values of the dataset-range of each column"
   ]
  },
  {
   "cell_type": "code",
   "execution_count": 13,
   "id": "scenic-terror",
   "metadata": {},
   "outputs": [
    {
     "data": {
      "text/html": [
       "<div>\n",
       "<style scoped>\n",
       "    .dataframe tbody tr th:only-of-type {\n",
       "        vertical-align: middle;\n",
       "    }\n",
       "\n",
       "    .dataframe tbody tr th {\n",
       "        vertical-align: top;\n",
       "    }\n",
       "\n",
       "    .dataframe thead th {\n",
       "        text-align: right;\n",
       "    }\n",
       "</style>\n",
       "<table border=\"1\" class=\"dataframe\">\n",
       "  <thead>\n",
       "    <tr style=\"text-align: right;\">\n",
       "      <th></th>\n",
       "      <th>Pregnancies</th>\n",
       "      <th>Glucose</th>\n",
       "      <th>BloodPressure</th>\n",
       "      <th>SkinThickness</th>\n",
       "      <th>Insulin</th>\n",
       "      <th>BMI</th>\n",
       "      <th>DiabetesPedigreeFunction</th>\n",
       "      <th>Age</th>\n",
       "      <th>Outcome</th>\n",
       "    </tr>\n",
       "  </thead>\n",
       "  <tbody>\n",
       "    <tr>\n",
       "      <th>count</th>\n",
       "      <td>768.000000</td>\n",
       "      <td>768.000000</td>\n",
       "      <td>768.000000</td>\n",
       "      <td>768.000000</td>\n",
       "      <td>768.000000</td>\n",
       "      <td>768.000000</td>\n",
       "      <td>768.000000</td>\n",
       "      <td>768.000000</td>\n",
       "      <td>768.000000</td>\n",
       "    </tr>\n",
       "    <tr>\n",
       "      <th>mean</th>\n",
       "      <td>3.845052</td>\n",
       "      <td>120.894531</td>\n",
       "      <td>69.105469</td>\n",
       "      <td>20.536458</td>\n",
       "      <td>79.799479</td>\n",
       "      <td>31.992578</td>\n",
       "      <td>0.471876</td>\n",
       "      <td>33.240885</td>\n",
       "      <td>0.348958</td>\n",
       "    </tr>\n",
       "    <tr>\n",
       "      <th>std</th>\n",
       "      <td>3.369578</td>\n",
       "      <td>31.972618</td>\n",
       "      <td>19.355807</td>\n",
       "      <td>15.952218</td>\n",
       "      <td>115.244002</td>\n",
       "      <td>7.884160</td>\n",
       "      <td>0.331329</td>\n",
       "      <td>11.760232</td>\n",
       "      <td>0.476951</td>\n",
       "    </tr>\n",
       "    <tr>\n",
       "      <th>min</th>\n",
       "      <td>0.000000</td>\n",
       "      <td>0.000000</td>\n",
       "      <td>0.000000</td>\n",
       "      <td>0.000000</td>\n",
       "      <td>0.000000</td>\n",
       "      <td>0.000000</td>\n",
       "      <td>0.078000</td>\n",
       "      <td>21.000000</td>\n",
       "      <td>0.000000</td>\n",
       "    </tr>\n",
       "    <tr>\n",
       "      <th>25%</th>\n",
       "      <td>1.000000</td>\n",
       "      <td>99.000000</td>\n",
       "      <td>62.000000</td>\n",
       "      <td>0.000000</td>\n",
       "      <td>0.000000</td>\n",
       "      <td>27.300000</td>\n",
       "      <td>0.243750</td>\n",
       "      <td>24.000000</td>\n",
       "      <td>0.000000</td>\n",
       "    </tr>\n",
       "    <tr>\n",
       "      <th>50%</th>\n",
       "      <td>3.000000</td>\n",
       "      <td>117.000000</td>\n",
       "      <td>72.000000</td>\n",
       "      <td>23.000000</td>\n",
       "      <td>30.500000</td>\n",
       "      <td>32.000000</td>\n",
       "      <td>0.372500</td>\n",
       "      <td>29.000000</td>\n",
       "      <td>0.000000</td>\n",
       "    </tr>\n",
       "    <tr>\n",
       "      <th>75%</th>\n",
       "      <td>6.000000</td>\n",
       "      <td>140.250000</td>\n",
       "      <td>80.000000</td>\n",
       "      <td>32.000000</td>\n",
       "      <td>127.250000</td>\n",
       "      <td>36.600000</td>\n",
       "      <td>0.626250</td>\n",
       "      <td>41.000000</td>\n",
       "      <td>1.000000</td>\n",
       "    </tr>\n",
       "    <tr>\n",
       "      <th>max</th>\n",
       "      <td>17.000000</td>\n",
       "      <td>199.000000</td>\n",
       "      <td>122.000000</td>\n",
       "      <td>99.000000</td>\n",
       "      <td>846.000000</td>\n",
       "      <td>67.100000</td>\n",
       "      <td>2.420000</td>\n",
       "      <td>81.000000</td>\n",
       "      <td>1.000000</td>\n",
       "    </tr>\n",
       "  </tbody>\n",
       "</table>\n",
       "</div>"
      ],
      "text/plain": [
       "       Pregnancies     Glucose  BloodPressure  SkinThickness     Insulin  \\\n",
       "count   768.000000  768.000000     768.000000     768.000000  768.000000   \n",
       "mean      3.845052  120.894531      69.105469      20.536458   79.799479   \n",
       "std       3.369578   31.972618      19.355807      15.952218  115.244002   \n",
       "min       0.000000    0.000000       0.000000       0.000000    0.000000   \n",
       "25%       1.000000   99.000000      62.000000       0.000000    0.000000   \n",
       "50%       3.000000  117.000000      72.000000      23.000000   30.500000   \n",
       "75%       6.000000  140.250000      80.000000      32.000000  127.250000   \n",
       "max      17.000000  199.000000     122.000000      99.000000  846.000000   \n",
       "\n",
       "              BMI  DiabetesPedigreeFunction         Age     Outcome  \n",
       "count  768.000000                768.000000  768.000000  768.000000  \n",
       "mean    31.992578                  0.471876   33.240885    0.348958  \n",
       "std      7.884160                  0.331329   11.760232    0.476951  \n",
       "min      0.000000                  0.078000   21.000000    0.000000  \n",
       "25%     27.300000                  0.243750   24.000000    0.000000  \n",
       "50%     32.000000                  0.372500   29.000000    0.000000  \n",
       "75%     36.600000                  0.626250   41.000000    1.000000  \n",
       "max     67.100000                  2.420000   81.000000    1.000000  "
      ]
     },
     "execution_count": 13,
     "metadata": {},
     "output_type": "execute_result"
    }
   ],
   "source": [
    "df.describe()"
   ]
  },
  {
   "cell_type": "markdown",
   "id": "through-andrew",
   "metadata": {},
   "source": [
    "#proportion of non diabetic cases is more-500"
   ]
  },
  {
   "cell_type": "code",
   "execution_count": 14,
   "id": "possible-password",
   "metadata": {},
   "outputs": [
    {
     "data": {
      "text/plain": [
       "0    500\n",
       "1    268\n",
       "Name: Outcome, dtype: int64"
      ]
     },
     "execution_count": 14,
     "metadata": {},
     "output_type": "execute_result"
    }
   ],
   "source": [
    "df['Outcome'].value_counts()"
   ]
  },
  {
   "cell_type": "code",
   "execution_count": 15,
   "id": "atlantic-accessory",
   "metadata": {},
   "outputs": [
    {
     "data": {
      "text/html": [
       "<div>\n",
       "<style scoped>\n",
       "    .dataframe tbody tr th:only-of-type {\n",
       "        vertical-align: middle;\n",
       "    }\n",
       "\n",
       "    .dataframe tbody tr th {\n",
       "        vertical-align: top;\n",
       "    }\n",
       "\n",
       "    .dataframe thead th {\n",
       "        text-align: right;\n",
       "    }\n",
       "</style>\n",
       "<table border=\"1\" class=\"dataframe\">\n",
       "  <thead>\n",
       "    <tr style=\"text-align: right;\">\n",
       "      <th></th>\n",
       "      <th>Pregnancies</th>\n",
       "      <th>Glucose</th>\n",
       "      <th>BloodPressure</th>\n",
       "      <th>SkinThickness</th>\n",
       "      <th>Insulin</th>\n",
       "      <th>BMI</th>\n",
       "      <th>DiabetesPedigreeFunction</th>\n",
       "      <th>Age</th>\n",
       "    </tr>\n",
       "    <tr>\n",
       "      <th>Outcome</th>\n",
       "      <th></th>\n",
       "      <th></th>\n",
       "      <th></th>\n",
       "      <th></th>\n",
       "      <th></th>\n",
       "      <th></th>\n",
       "      <th></th>\n",
       "      <th></th>\n",
       "    </tr>\n",
       "  </thead>\n",
       "  <tbody>\n",
       "    <tr>\n",
       "      <th>0</th>\n",
       "      <td>3.298000</td>\n",
       "      <td>109.980000</td>\n",
       "      <td>68.184000</td>\n",
       "      <td>19.664000</td>\n",
       "      <td>68.792000</td>\n",
       "      <td>30.304200</td>\n",
       "      <td>0.429734</td>\n",
       "      <td>31.190000</td>\n",
       "    </tr>\n",
       "    <tr>\n",
       "      <th>1</th>\n",
       "      <td>4.865672</td>\n",
       "      <td>141.257463</td>\n",
       "      <td>70.824627</td>\n",
       "      <td>22.164179</td>\n",
       "      <td>100.335821</td>\n",
       "      <td>35.142537</td>\n",
       "      <td>0.550500</td>\n",
       "      <td>37.067164</td>\n",
       "    </tr>\n",
       "  </tbody>\n",
       "</table>\n",
       "</div>"
      ],
      "text/plain": [
       "         Pregnancies     Glucose  BloodPressure  SkinThickness     Insulin  \\\n",
       "Outcome                                                                      \n",
       "0           3.298000  109.980000      68.184000      19.664000   68.792000   \n",
       "1           4.865672  141.257463      70.824627      22.164179  100.335821   \n",
       "\n",
       "               BMI  DiabetesPedigreeFunction        Age  \n",
       "Outcome                                                  \n",
       "0        30.304200                  0.429734  31.190000  \n",
       "1        35.142537                  0.550500  37.067164  "
      ]
     },
     "execution_count": 15,
     "metadata": {},
     "output_type": "execute_result"
    }
   ],
   "source": [
    "df.groupby('Outcome').mean()"
   ]
  },
  {
   "cell_type": "code",
   "execution_count": 16,
   "id": "inner-charm",
   "metadata": {},
   "outputs": [],
   "source": [
    "#seperating the data and labels\n",
    "X = df.drop(columns ='Outcome',axis=1)\n",
    "Y= df['Outcome']"
   ]
  },
  {
   "cell_type": "code",
   "execution_count": 17,
   "id": "leading-cemetery",
   "metadata": {},
   "outputs": [
    {
     "name": "stdout",
     "output_type": "stream",
     "text": [
      "     Pregnancies  Glucose  BloodPressure  SkinThickness  Insulin   BMI  \\\n",
      "0              6      148             72             35        0  33.6   \n",
      "1              1       85             66             29        0  26.6   \n",
      "2              8      183             64              0        0  23.3   \n",
      "3              1       89             66             23       94  28.1   \n",
      "4              0      137             40             35      168  43.1   \n",
      "..           ...      ...            ...            ...      ...   ...   \n",
      "763           10      101             76             48      180  32.9   \n",
      "764            2      122             70             27        0  36.8   \n",
      "765            5      121             72             23      112  26.2   \n",
      "766            1      126             60              0        0  30.1   \n",
      "767            1       93             70             31        0  30.4   \n",
      "\n",
      "     DiabetesPedigreeFunction  Age  \n",
      "0                       0.627   50  \n",
      "1                       0.351   31  \n",
      "2                       0.672   32  \n",
      "3                       0.167   21  \n",
      "4                       2.288   33  \n",
      "..                        ...  ...  \n",
      "763                     0.171   63  \n",
      "764                     0.340   27  \n",
      "765                     0.245   30  \n",
      "766                     0.349   47  \n",
      "767                     0.315   23  \n",
      "\n",
      "[768 rows x 8 columns]\n"
     ]
    }
   ],
   "source": [
    "print(X)"
   ]
  },
  {
   "cell_type": "code",
   "execution_count": 18,
   "id": "administrative-niagara",
   "metadata": {},
   "outputs": [
    {
     "name": "stdout",
     "output_type": "stream",
     "text": [
      "0      1\n",
      "1      0\n",
      "2      1\n",
      "3      0\n",
      "4      1\n",
      "      ..\n",
      "763    0\n",
      "764    0\n",
      "765    0\n",
      "766    1\n",
      "767    0\n",
      "Name: Outcome, Length: 768, dtype: int64\n"
     ]
    }
   ],
   "source": [
    "print(Y)"
   ]
  },
  {
   "cell_type": "code",
   "execution_count": 19,
   "id": "extraordinary-knight",
   "metadata": {},
   "outputs": [
    {
     "name": "stdout",
     "output_type": "stream",
     "text": [
      "<class 'pandas.core.frame.DataFrame'>\n",
      "RangeIndex: 768 entries, 0 to 767\n",
      "Data columns (total 9 columns):\n",
      " #   Column                    Non-Null Count  Dtype  \n",
      "---  ------                    --------------  -----  \n",
      " 0   Pregnancies               768 non-null    int64  \n",
      " 1   Glucose                   768 non-null    int64  \n",
      " 2   BloodPressure             768 non-null    int64  \n",
      " 3   SkinThickness             768 non-null    int64  \n",
      " 4   Insulin                   768 non-null    int64  \n",
      " 5   BMI                       768 non-null    float64\n",
      " 6   DiabetesPedigreeFunction  768 non-null    float64\n",
      " 7   Age                       768 non-null    int64  \n",
      " 8   Outcome                   768 non-null    int64  \n",
      "dtypes: float64(2), int64(7)\n",
      "memory usage: 54.1 KB\n"
     ]
    }
   ],
   "source": [
    "df.info()"
   ]
  },
  {
   "cell_type": "markdown",
   "id": "documentary-blast",
   "metadata": {},
   "source": [
    "graphs\n"
   ]
  },
  {
   "cell_type": "code",
   "execution_count": 20,
   "id": "talented-cosmetic",
   "metadata": {},
   "outputs": [
    {
     "data": {
      "text/html": [
       "<div>\n",
       "<style scoped>\n",
       "    .dataframe tbody tr th:only-of-type {\n",
       "        vertical-align: middle;\n",
       "    }\n",
       "\n",
       "    .dataframe tbody tr th {\n",
       "        vertical-align: top;\n",
       "    }\n",
       "\n",
       "    .dataframe thead th {\n",
       "        text-align: right;\n",
       "    }\n",
       "</style>\n",
       "<table border=\"1\" class=\"dataframe\">\n",
       "  <thead>\n",
       "    <tr style=\"text-align: right;\">\n",
       "      <th></th>\n",
       "      <th>Pregnancies</th>\n",
       "      <th>Glucose</th>\n",
       "      <th>BloodPressure</th>\n",
       "      <th>SkinThickness</th>\n",
       "      <th>Insulin</th>\n",
       "      <th>BMI</th>\n",
       "      <th>DiabetesPedigreeFunction</th>\n",
       "      <th>Age</th>\n",
       "      <th>Outcome</th>\n",
       "    </tr>\n",
       "  </thead>\n",
       "  <tbody>\n",
       "    <tr>\n",
       "      <th>Pregnancies</th>\n",
       "      <td>1.000000</td>\n",
       "      <td>0.129459</td>\n",
       "      <td>0.141282</td>\n",
       "      <td>-0.081672</td>\n",
       "      <td>-0.073535</td>\n",
       "      <td>0.017683</td>\n",
       "      <td>-0.033523</td>\n",
       "      <td>0.544341</td>\n",
       "      <td>0.221898</td>\n",
       "    </tr>\n",
       "    <tr>\n",
       "      <th>Glucose</th>\n",
       "      <td>0.129459</td>\n",
       "      <td>1.000000</td>\n",
       "      <td>0.152590</td>\n",
       "      <td>0.057328</td>\n",
       "      <td>0.331357</td>\n",
       "      <td>0.221071</td>\n",
       "      <td>0.137337</td>\n",
       "      <td>0.263514</td>\n",
       "      <td>0.466581</td>\n",
       "    </tr>\n",
       "    <tr>\n",
       "      <th>BloodPressure</th>\n",
       "      <td>0.141282</td>\n",
       "      <td>0.152590</td>\n",
       "      <td>1.000000</td>\n",
       "      <td>0.207371</td>\n",
       "      <td>0.088933</td>\n",
       "      <td>0.281805</td>\n",
       "      <td>0.041265</td>\n",
       "      <td>0.239528</td>\n",
       "      <td>0.065068</td>\n",
       "    </tr>\n",
       "    <tr>\n",
       "      <th>SkinThickness</th>\n",
       "      <td>-0.081672</td>\n",
       "      <td>0.057328</td>\n",
       "      <td>0.207371</td>\n",
       "      <td>1.000000</td>\n",
       "      <td>0.436783</td>\n",
       "      <td>0.392573</td>\n",
       "      <td>0.183928</td>\n",
       "      <td>-0.113970</td>\n",
       "      <td>0.074752</td>\n",
       "    </tr>\n",
       "    <tr>\n",
       "      <th>Insulin</th>\n",
       "      <td>-0.073535</td>\n",
       "      <td>0.331357</td>\n",
       "      <td>0.088933</td>\n",
       "      <td>0.436783</td>\n",
       "      <td>1.000000</td>\n",
       "      <td>0.197859</td>\n",
       "      <td>0.185071</td>\n",
       "      <td>-0.042163</td>\n",
       "      <td>0.130548</td>\n",
       "    </tr>\n",
       "    <tr>\n",
       "      <th>BMI</th>\n",
       "      <td>0.017683</td>\n",
       "      <td>0.221071</td>\n",
       "      <td>0.281805</td>\n",
       "      <td>0.392573</td>\n",
       "      <td>0.197859</td>\n",
       "      <td>1.000000</td>\n",
       "      <td>0.140647</td>\n",
       "      <td>0.036242</td>\n",
       "      <td>0.292695</td>\n",
       "    </tr>\n",
       "    <tr>\n",
       "      <th>DiabetesPedigreeFunction</th>\n",
       "      <td>-0.033523</td>\n",
       "      <td>0.137337</td>\n",
       "      <td>0.041265</td>\n",
       "      <td>0.183928</td>\n",
       "      <td>0.185071</td>\n",
       "      <td>0.140647</td>\n",
       "      <td>1.000000</td>\n",
       "      <td>0.033561</td>\n",
       "      <td>0.173844</td>\n",
       "    </tr>\n",
       "    <tr>\n",
       "      <th>Age</th>\n",
       "      <td>0.544341</td>\n",
       "      <td>0.263514</td>\n",
       "      <td>0.239528</td>\n",
       "      <td>-0.113970</td>\n",
       "      <td>-0.042163</td>\n",
       "      <td>0.036242</td>\n",
       "      <td>0.033561</td>\n",
       "      <td>1.000000</td>\n",
       "      <td>0.238356</td>\n",
       "    </tr>\n",
       "    <tr>\n",
       "      <th>Outcome</th>\n",
       "      <td>0.221898</td>\n",
       "      <td>0.466581</td>\n",
       "      <td>0.065068</td>\n",
       "      <td>0.074752</td>\n",
       "      <td>0.130548</td>\n",
       "      <td>0.292695</td>\n",
       "      <td>0.173844</td>\n",
       "      <td>0.238356</td>\n",
       "      <td>1.000000</td>\n",
       "    </tr>\n",
       "  </tbody>\n",
       "</table>\n",
       "</div>"
      ],
      "text/plain": [
       "                          Pregnancies   Glucose  BloodPressure  SkinThickness  \\\n",
       "Pregnancies                  1.000000  0.129459       0.141282      -0.081672   \n",
       "Glucose                      0.129459  1.000000       0.152590       0.057328   \n",
       "BloodPressure                0.141282  0.152590       1.000000       0.207371   \n",
       "SkinThickness               -0.081672  0.057328       0.207371       1.000000   \n",
       "Insulin                     -0.073535  0.331357       0.088933       0.436783   \n",
       "BMI                          0.017683  0.221071       0.281805       0.392573   \n",
       "DiabetesPedigreeFunction    -0.033523  0.137337       0.041265       0.183928   \n",
       "Age                          0.544341  0.263514       0.239528      -0.113970   \n",
       "Outcome                      0.221898  0.466581       0.065068       0.074752   \n",
       "\n",
       "                           Insulin       BMI  DiabetesPedigreeFunction  \\\n",
       "Pregnancies              -0.073535  0.017683                 -0.033523   \n",
       "Glucose                   0.331357  0.221071                  0.137337   \n",
       "BloodPressure             0.088933  0.281805                  0.041265   \n",
       "SkinThickness             0.436783  0.392573                  0.183928   \n",
       "Insulin                   1.000000  0.197859                  0.185071   \n",
       "BMI                       0.197859  1.000000                  0.140647   \n",
       "DiabetesPedigreeFunction  0.185071  0.140647                  1.000000   \n",
       "Age                      -0.042163  0.036242                  0.033561   \n",
       "Outcome                   0.130548  0.292695                  0.173844   \n",
       "\n",
       "                               Age   Outcome  \n",
       "Pregnancies               0.544341  0.221898  \n",
       "Glucose                   0.263514  0.466581  \n",
       "BloodPressure             0.239528  0.065068  \n",
       "SkinThickness            -0.113970  0.074752  \n",
       "Insulin                  -0.042163  0.130548  \n",
       "BMI                       0.036242  0.292695  \n",
       "DiabetesPedigreeFunction  0.033561  0.173844  \n",
       "Age                       1.000000  0.238356  \n",
       "Outcome                   0.238356  1.000000  "
      ]
     },
     "execution_count": 20,
     "metadata": {},
     "output_type": "execute_result"
    }
   ],
   "source": [
    "df.corr()"
   ]
  },
  {
   "cell_type": "code",
   "execution_count": 21,
   "id": "chief-stand",
   "metadata": {},
   "outputs": [
    {
     "data": {
      "text/plain": [
       "Text(0.5, 1.0, 'correlation matrix of squared correlations \\n\\n\\n\\n\\n')"
      ]
     },
     "execution_count": 21,
     "metadata": {},
     "output_type": "execute_result"
    },
    {
     "data": {
      "image/png": "[encoded data removed]",
      "text/plain": [
       "<Figure size 1368x1080 with 2 Axes>"
      ]
     },
     "metadata": {
      "needs_background": "light"
     },
     "output_type": "display_data"
    }
   ],
   "source": [
    "fig = plt.figure(figsize = (19,15))\n",
    "plt.matshow(df.corr()**2,fignum = fig.number)\n",
    "plt.xticks(range(df.shape[1]),df.columns,fontsize = 14, rotation = 45)\n",
    "plt.yticks(range(df.shape[1]),df.columns,fontsize = 14)\n",
    "cb = plt.colorbar()\n",
    "cb.ax.tick_params(labelsize = 14)\n",
    "plt.title(\"correlation matrix of squared correlations \\n\\n\\n\\n\\n\",fontsize =20)"
   ]
  },
  {
   "cell_type": "markdown",
   "id": "processed-hypothesis",
   "metadata": {},
   "source": [
    "check which columns are useful and which are not"
   ]
  },
  {
   "cell_type": "code",
   "execution_count": 24,
   "id": "above-cincinnati",
   "metadata": {},
   "outputs": [
    {
     "name": "stdout",
     "output_type": "stream",
     "text": [
      "0    500\n",
      "1    268\n",
      "Name: Outcome, dtype: int64\n"
     ]
    },
    {
     "data": {
      "text/plain": [
       "<Figure size 720x432 with 0 Axes>"
      ]
     },
     "metadata": {},
     "output_type": "display_data"
    }
   ],
   "source": [
    "#1-->diabetic\n",
    "#0-->healthy\n",
    "\n",
    "print(df[\"Outcome\"].value_counts())\n",
    "fig = plt.figure(figsize = (10, 6))"
   ]
  },
  {
   "cell_type": "code",
   "execution_count": 23,
   "id": "together-auckland",
   "metadata": {},
   "outputs": [
    {
     "name": "stderr",
     "output_type": "stream",
     "text": [
      "C:\\Users\\91986\\anaconda3\\lib\\site-packages\\seaborn\\distributions.py:2557: FutureWarning: `distplot` is a deprecated function and will be removed in a future version. Please adapt your code to use either `displot` (a figure-level function with similar flexibility) or `histplot` (an axes-level function for histograms).\n",
      "  warnings.warn(msg, FutureWarning)\n"
     ]
    },
    {
     "data": {
      "text/plain": [
       "Text(0.5, 1.0, 'Glucose')"
      ]
     },
     "execution_count": 23,
     "metadata": {},
     "output_type": "execute_result"
    },
    {
     "data": {
      "image/png": "[encoded data removed]",
      "text/plain": [
       "<Figure size 1152x432 with 1 Axes>"
      ]
     },
     "metadata": {
      "needs_background": "light"
     },
     "output_type": "display_data"
    }
   ],
   "source": [
    "#glucose for diabetic\n",
    "fig = plt.figure(figsize =(16,6))\n",
    "\n",
    "sns.distplot(df[\"Glucose\"][df[\"Outcome\"] == 1])\n",
    "plt.xticks([i for i in range(0,201,15)],rotation = 45)\n",
    "plt.ylabel(\"Glucose count\")\n",
    "plt.title(\"Glucose\",fontsize = 20)"
   ]
  },
  {
   "cell_type": "code",
   "execution_count": 45,
   "id": "official-replacement",
   "metadata": {},
   "outputs": [
    {
     "name": "stderr",
     "output_type": "stream",
     "text": [
      "C:\\Users\\91986\\anaconda3\\lib\\site-packages\\seaborn\\distributions.py:2557: FutureWarning: `distplot` is a deprecated function and will be removed in a future version. Please adapt your code to use either `displot` (a figure-level function with similar flexibility) or `histplot` (an axes-level function for histograms).\n",
      "  warnings.warn(msg, FutureWarning)\n"
     ]
    },
    {
     "data": {
      "text/plain": [
       "Text(0.5, 1.0, 'Insulin')"
      ]
     },
     "execution_count": 45,
     "metadata": {},
     "output_type": "execute_result"
    },
    {
     "data": {
      "image/png": "[encoded data removed]",
      "text/plain": [
       "<Figure size 1152x432 with 1 Axes>"
      ]
     },
     "metadata": {
      "needs_background": "light"
     },
     "output_type": "display_data"
    }
   ],
   "source": [
    "#insulin for diabetic \n",
    "\n",
    "fig = plt.figure(figsize = (16,6))\n",
    "\n",
    "sns.distplot(df[\"Insulin\"][df[\"Outcome\"]==1])\n",
    "plt.xticks()\n",
    "plt.title(\"Insulin\",fontsize = 20)\n"
   ]
  },
  {
   "cell_type": "code",
   "execution_count": 46,
   "id": "confirmed-search",
   "metadata": {},
   "outputs": [
    {
     "name": "stderr",
     "output_type": "stream",
     "text": [
      "C:\\Users\\91986\\anaconda3\\lib\\site-packages\\seaborn\\distributions.py:2557: FutureWarning: `distplot` is a deprecated function and will be removed in a future version. Please adapt your code to use either `displot` (a figure-level function with similar flexibility) or `histplot` (an axes-level function for histograms).\n",
      "  warnings.warn(msg, FutureWarning)\n"
     ]
    },
    {
     "data": {
      "text/plain": [
       "Text(0.5, 1.0, 'BMI')"
      ]
     },
     "execution_count": 46,
     "metadata": {},
     "output_type": "execute_result"
    },
    {
     "data": {
      "image/png": "[encoded data removed]",
      "text/plain": [
       "<Figure size 1152x432 with 1 Axes>"
      ]
     },
     "metadata": {
      "needs_background": "light"
     },
     "output_type": "display_data"
    }
   ],
   "source": [
    "#BMI for diabetic\n",
    "fig = plt.figure(figsize =(16,6))\n",
    "\n",
    "sns.distplot(df[\"BMI\"][df[\"Outcome\"]==1])\n",
    "plt.xticks()\n",
    "plt.title(\"BMI\",fontsize = 20)\n",
    "\n",
    "\n"
   ]
  },
  {
   "cell_type": "code",
   "execution_count": 47,
   "id": "immune-presence",
   "metadata": {},
   "outputs": [
    {
     "name": "stderr",
     "output_type": "stream",
     "text": [
      "C:\\Users\\91986\\anaconda3\\lib\\site-packages\\seaborn\\distributions.py:2557: FutureWarning: `distplot` is a deprecated function and will be removed in a future version. Please adapt your code to use either `displot` (a figure-level function with similar flexibility) or `histplot` (an axes-level function for histograms).\n",
      "  warnings.warn(msg, FutureWarning)\n"
     ]
    },
    {
     "data": {
      "text/plain": [
       "Text(0.5, 1.0, 'diabetespedigreefunction')"
      ]
     },
     "execution_count": 47,
     "metadata": {},
     "output_type": "execute_result"
    },
    {
     "data": {
      "image/png": "[encoded data removed]",
      "text/plain": [
       "<Figure size 1152x360 with 1 Axes>"
      ]
     },
     "metadata": {
      "needs_background": "light"
     },
     "output_type": "display_data"
    }
   ],
   "source": [
    "#diabeticpedigreefunction for diabetic\n",
    "fig = plt.figure(figsize = (16,5))\n",
    "sns.distplot(df[\"DiabetesPedigreeFunction\"][df[\"Outcome\"] == 1])\n",
    "plt.xticks([i*0.15 for i in range(1,12)])\n",
    "plt.title(\"diabetespedigreefunction\")"
   ]
  },
  {
   "cell_type": "code",
   "execution_count": 48,
   "id": "creative-stopping",
   "metadata": {},
   "outputs": [
    {
     "name": "stderr",
     "output_type": "stream",
     "text": [
      "C:\\Users\\91986\\anaconda3\\lib\\site-packages\\seaborn\\distributions.py:2557: FutureWarning: `distplot` is a deprecated function and will be removed in a future version. Please adapt your code to use either `displot` (a figure-level function with similar flexibility) or `histplot` (an axes-level function for histograms).\n",
      "  warnings.warn(msg, FutureWarning)\n"
     ]
    },
    {
     "data": {
      "text/plain": [
       "Text(0.5, 1.0, 'Age')"
      ]
     },
     "execution_count": 48,
     "metadata": {},
     "output_type": "execute_result"
    },
    {
     "data": {
      "image/png": "[encoded data removed]",
      "text/plain": [
       "<Figure size 1152x432 with 1 Axes>"
      ]
     },
     "metadata": {
      "needs_background": "light"
     },
     "output_type": "display_data"
    }
   ],
   "source": [
    "#Age for diabetic\n",
    "fig = plt.figure(figsize = (16,6))\n",
    "\n",
    "sns.distplot(df[\"Age\"][df[\"Outcome\"] == 1])\n",
    "plt.xticks([i*0.15 for i in range(1,12)])\n",
    "plt.title(\"Age\")"
   ]
  },
  {
   "cell_type": "markdown",
   "id": "historical-mexico",
   "metadata": {},
   "source": [
    "Data pre-processing using standard scalar"
   ]
  },
  {
   "cell_type": "code",
   "execution_count": 49,
   "id": "peaceful-farming",
   "metadata": {},
   "outputs": [],
   "source": [
    "#seperating dependent and independent columns\n",
    "X = df.drop([\"Pregnancies\",\"BloodPressure\",\"SkinThickness\"],axis = 1)\n",
    "y = df.iloc[:,-1]\n"
   ]
  },
  {
   "cell_type": "code",
   "execution_count": 50,
   "id": "crude-group",
   "metadata": {},
   "outputs": [
    {
     "name": "stdout",
     "output_type": "stream",
     "text": [
      "X_train size: (614, 6)\n",
      "y_train size:  (614,) \n",
      "\n",
      "X_test size: (154, 6)\n",
      "y_test size: (154,)\n"
     ]
    }
   ],
   "source": [
    "X_train,X_test,y_train,y_test = train_test_split(X,y,test_size = 0.2,random_state=0)\n",
    "\n",
    "print(\"X_train size:\", X_train.shape)\n",
    "print(\"y_train size: \",y_train.shape,\"\\n\")\n",
    "print(\"X_test size:\", X_test.shape)\n",
    "print(\"y_test size:\",y_test.shape)\n"
   ]
  },
  {
   "cell_type": "code",
   "execution_count": 51,
   "id": "acquired-brown",
   "metadata": {},
   "outputs": [],
   "source": [
    "#standard scaling\n",
    "\n",
    "sc= StandardScaler()\n",
    "X_train = sc.fit_transform(X_train)\n",
    "X_test = sc.fit_transform(X_test)"
   ]
  },
  {
   "cell_type": "code",
   "execution_count": 64,
   "id": "vanilla-aviation",
   "metadata": {},
   "outputs": [
    {
     "name": "stdout",
     "output_type": "stream",
     "text": [
      "StandardScaler()\n"
     ]
    }
   ],
   "source": [
    "print(sc)"
   ]
  },
  {
   "cell_type": "code",
   "execution_count": 65,
   "id": "selected-midwest",
   "metadata": {},
   "outputs": [
    {
     "name": "stdout",
     "output_type": "stream",
     "text": [
      "[[ 0.91569367  0.3736349   0.37852648  0.67740401  1.69955804  1.33352186]\n",
      " [-0.75182191 -0.69965674 -0.50667229 -0.07049698 -0.96569189 -0.74989397]\n",
      " [ 1.38763205  5.09271083  2.54094063 -0.11855487 -0.88240283 -0.74989397]\n",
      " ...\n",
      " [-0.84620959 -0.69965674 -0.94927168 -0.95656442 -1.04898095 -0.74989397]\n",
      " [-1.12937261 -0.69965674 -0.26640405 -0.50001442  0.11706589 -0.74989397]\n",
      " [ 0.47521786 -0.69965674 -4.07275877  0.52121586  2.94889395 -0.74989397]]\n"
     ]
    }
   ],
   "source": [
    "print(X_train)"
   ]
  },
  {
   "cell_type": "code",
   "execution_count": 66,
   "id": "protecting-tribute",
   "metadata": {},
   "outputs": [
    {
     "name": "stdout",
     "output_type": "stream",
     "text": [
      "[[ 2.39507259e+00 -6.69261578e-01  1.52657475e+00  2.78935129e+00\n",
      "  -9.30642826e-01  1.50883920e+00]\n",
      " [-4.25892449e-01  2.80308009e-01  3.19441160e-01 -2.76988247e-01\n",
      "  -8.35980346e-01 -6.62761146e-01]\n",
      " [-1.37643502e+00 -6.69261578e-01  3.71360884e-01 -3.17253311e-01\n",
      "  -6.46655385e-01 -6.62761146e-01]\n",
      " [ 1.38320470e+00  9.92485199e-01 -6.92993461e-01  2.89819971e-01\n",
      "   1.81456910e+00  1.50883920e+00]\n",
      " [-3.03241795e-01 -6.69261578e-01 -8.48752633e-01  5.15923795e-01\n",
      "  -7.86805031e-02 -6.62761146e-01]\n",
      " [-1.22312170e+00 -2.89433743e-01 -5.89154013e-01 -6.51763079e-01\n",
      "  -7.41317865e-01 -6.62761146e-01]\n",
      " [ 9.53927407e-01  9.54502416e-01  3.97320746e-01  1.23759765e+00\n",
      "   1.10644458e-01  1.50883920e+00]\n",
      " [ 1.68983133e+00  8.12066978e-01  2.80501367e-01  2.04599625e+00\n",
      "   1.90923158e+00  1.50883920e+00]\n",
      " [ 1.87360820e-01  1.94205479e+00 -4.46374771e-01  3.42739770e+00\n",
      "  -6.46655385e-01 -6.62761146e-01]\n",
      " [-5.48543103e-01  1.13492064e+00  8.51618332e-01 -5.24773260e-01\n",
      "   2.19321902e+00 -6.62761146e-01]\n",
      " [ 1.13790339e+00  1.65718391e+00  5.98425392e-02  1.10751051e+00\n",
      "  -3.62667944e-01  1.50883920e+00]\n",
      " [ 2.02712063e+00  1.29634747e+00  1.61743426e+00  1.67431873e+00\n",
      "   2.00389406e+00  1.50883920e+00]\n",
      " [-2.11253805e-01 -6.69261578e-01 -8.09812840e-01  7.76098059e-01\n",
      "   2.38254399e+00 -6.62761146e-01]\n",
      " [-1.19245904e+00  4.22743447e-01 -3.42535323e-01  3.73403165e+00\n",
      "  -6.46655385e-01 -6.62761146e-01]\n",
      " [-1.71372432e+00 -6.69261578e-01  1.11762263e-01  3.30085035e-01\n",
      "   9.62606780e-01 -6.62761146e-01]\n",
      " [-3.95229786e-01 -6.69261578e-01 -4.98294495e-01  9.09282503e-01\n",
      "   1.59819772e-02 -6.62761146e-01]\n",
      " [ 1.78181932e+00  5.65178885e-01  2.02621781e-01  6.98665242e-01\n",
      "   3.94631898e-01  1.50883920e+00]\n",
      " [-1.46842301e+00 -6.69261578e-01 -1.05643153e+00 -7.60169022e-01\n",
      "  -1.02530531e+00 -6.62761146e-01]\n",
      " [ 3.40674138e-01 -6.69261578e-01 -4.07434978e-01 -2.30528557e-01\n",
      "   2.95051887e+00 -6.62761146e-01]\n",
      " [-6.71193757e-01  1.18881179e-01  3.71360884e-01  1.72564563e-02\n",
      "  -1.73342983e-01 -6.62761146e-01]\n",
      " [ 7.08626099e-01 -6.69261578e-01  9.55457781e-01  1.87608653e-01\n",
      "   4.89294379e-01  1.50883920e+00]\n",
      " [-8.86031510e-02 -6.69261578e-01  1.52657475e+00  6.18135113e-01\n",
      "  -1.02530531e+00  1.50883920e+00]\n",
      " [-1.03914572e+00 -6.69261578e-01 -2.90615599e-01  8.65920126e-01\n",
      "  -6.46655385e-01 -6.62761146e-01]\n",
      " [-1.83637497e+00 -6.69261578e-01  4.23280608e-01 -7.75655585e-01\n",
      "   1.34125670e+00 -6.62761146e-01]\n",
      " [-7.32519084e-01  6.60135844e-01 -1.03047167e+00 -1.99112957e-02\n",
      "  -9.30642826e-01 -6.62761146e-01]\n",
      " [ 9.53728299e-02 -6.69261578e-01  6.04999643e-01  6.37161462e-02\n",
      "  -1.02530531e+00 -6.62761146e-01]\n",
      " [-5.17880440e-01 -6.69261578e-01 -1.65350836e+00  2.74333407e-01\n",
      "  -4.57330424e-01 -6.62761146e-01]\n",
      " [ 9.84590071e-01  6.60135844e-01  1.22803633e+00  2.10794250e+00\n",
      "   6.78619339e-01 -6.62761146e-01]\n",
      " [-2.72579132e-01 -6.69261578e-01 -7.96832909e-01 -5.77427575e-01\n",
      "  -7.41317865e-01 -6.62761146e-01]\n",
      " [-3.33904459e-01 -6.69261578e-01 -6.67033599e-01 -6.23887265e-01\n",
      "  -1.73342983e-01 -6.62761146e-01]\n",
      " [ 4.63324792e-01  6.12657365e-01 -6.67033599e-01  4.75658730e-01\n",
      "   1.81456910e+00 -6.62761146e-01]\n",
      " [-5.79205767e-01  7.14027001e-02  1.22803633e+00  7.96451827e-03\n",
      "  -1.02530531e+00 -6.62761146e-01]\n",
      " [-5.79205767e-01  3.27786489e-01 -2.38695875e-01  6.24329738e-01\n",
      "  -4.57330424e-01 -6.62761146e-01]\n",
      " [ 3.40475030e-02  8.31058370e-01  6.56919367e-01  9.99104570e-01\n",
      "  -3.62667944e-01 -6.62761146e-01]\n",
      " [-5.79404875e-02 -1.94476784e-01 -1.14729105e+00 -8.93353466e-01\n",
      "  -7.41317865e-01 -6.62761146e-01]\n",
      " [ 1.44453002e+00 -6.69261578e-01  2.28581643e-01 -1.11016535e+00\n",
      "   8.67944300e-01  1.50883920e+00]\n",
      " [ 4.63324792e-01  5.65178885e-01 -3.68495185e-01 -7.23001270e-01\n",
      "   9.62606780e-01  1.50883920e+00]\n",
      " [-1.19265814e-01  4.93282902e-03 -7.70873047e-01 -5.58843699e-01\n",
      "  -1.02530531e+00 -6.62761146e-01]\n",
      " [-5.79404875e-02 -7.10327379e-02  5.66059850e-01 -6.61055017e-01\n",
      "  -6.46655385e-01 -6.62761146e-01]\n",
      " [ 1.81248198e+00 -4.56286685e-03  3.71360884e-01 -6.88930831e-01\n",
      "  -5.51992905e-01 -6.62761146e-01]\n",
      " [-5.79404875e-02  2.04342442e-01  4.88180263e-01  7.17249118e-01\n",
      "  -8.35980346e-01 -6.62761146e-01]\n",
      " [-9.47157728e-01 -6.69261578e-01  1.50061488e+00  2.03095216e-01\n",
      "  -1.02530531e+00 -6.62761146e-01]\n",
      " [-6.71193757e-01 -1.56494001e-01 -5.50214220e-01  1.10618309e-02\n",
      "   1.59819772e-02 -6.62761146e-01]\n",
      " [ 2.21109661e+00 -6.69261578e-01  4.88180263e-01 -7.81850211e-01\n",
      "  -6.46655385e-01  1.50883920e+00]\n",
      " [ 2.33374726e+00  4.48690128e+00 -8.29367022e-02 -1.03892716e+00\n",
      "   2.00389406e+00  1.50883920e+00]\n",
      " [-5.79205767e-01 -6.69261578e-01 -4.04181567e+00  2.43360281e-01\n",
      "  -1.02530531e+00 -6.62761146e-01]\n",
      " [-3.95229786e-01 -1.37502609e-01 -7.70873047e-01 -1.13184654e+00\n",
      "  -1.02530531e+00 -6.62761146e-01]\n",
      " [ 2.48686147e-01  4.22743447e-01 -6.15113875e-01 -8.49991089e-01\n",
      "  -3.62667944e-01  1.50883920e+00]\n",
      " [-3.64567122e-01  2.70812313e-01  4.75200332e-01  1.27476540e+00\n",
      "  -5.51992905e-01  1.50883920e+00]\n",
      " [ 1.26035493e-01 -6.69261578e-01  1.50702056e-01  1.31857025e-01\n",
      "  -4.57330424e-01  1.50883920e+00]\n",
      " [ 3.71336801e-01 -6.69261578e-01 -5.37234289e-01 -7.69460960e-01\n",
      "   3.94631898e-01 -6.62761146e-01]\n",
      " [-3.95229786e-01 -7.10327379e-02  1.76661919e-01 -5.43357136e-01\n",
      "  -9.30642826e-01 -6.62761146e-01]\n",
      " [ 9.23264744e-01  1.90407200e+00  1.38379551e+00  7.69903433e-01\n",
      "   5.83956859e-01  1.50883920e+00]\n",
      " [ 4.93987455e-01 -6.69261578e-01  1.11762263e-01 -3.17253311e-01\n",
      "   6.78619339e-01 -6.62761146e-01]\n",
      " [-9.16495065e-01  1.32483455e+00  1.13717682e+00 -3.48226438e-01\n",
      "  -6.46655385e-01 -6.62761146e-01]\n",
      " [-3.70679744e+00 -6.69261578e-01 -8.35772702e-01 -1.09467879e+00\n",
      "  -9.30642826e-01 -6.62761146e-01]\n",
      " [-1.10047105e+00 -6.69261578e-01 -5.89154013e-01 -4.41145818e-01\n",
      "  -7.86805031e-02 -6.62761146e-01]\n",
      " [-1.80591141e-01 -6.69261578e-01  2.82456785e+00 -8.80964216e-01\n",
      "  -3.62667944e-01  1.50883920e+00]\n",
      " [ 4.01999465e-01 -6.69261578e-01 -2.90615599e-01  1.50440901e-01\n",
      "  -8.35980346e-01  1.50883920e+00]\n",
      " [-1.80591141e-01 -6.69261578e-01 -4.04181567e+00 -7.19903957e-01\n",
      "  -1.73342983e-01  1.50883920e+00]\n",
      " [ 1.41386736e+00  1.52424417e+00  8.38638401e-01 -1.01724597e+00\n",
      "   1.05726926e+00  1.50883920e+00]\n",
      " [ 8.00614090e-01  2.11297731e+00  4.88180263e-01 -3.35837187e-01\n",
      "  -1.73342983e-01 -6.62761146e-01]\n",
      " [ 1.26035493e-01 -6.69261578e-01 -8.35772702e-01 -8.90256154e-01\n",
      "  -1.02530531e+00 -6.62761146e-01]\n",
      " [ 5.24650119e-01 -6.69261578e-01  6.69899298e-01  1.36149015e+00\n",
      "  -6.46655385e-01  1.50883920e+00]\n",
      " [ 1.87380731e+00 -6.69261578e-01 -8.29367022e-02 -4.59729694e-01\n",
      "  -2.68005464e-01  1.50883920e+00]\n",
      " [ 2.33374726e+00 -6.69261578e-01 -6.80013530e-01  2.16059682e+00\n",
      "   6.78619339e-01  1.50883920e+00]\n",
      " [ 1.35254203e+00 -6.69261578e-01 -9.59166333e-02 -5.92914138e-01\n",
      "   1.62524414e+00  1.50883920e+00]\n",
      " [ 3.40475030e-02 -6.69261578e-01 -1.05643153e+00 -7.41585146e-01\n",
      "   7.73281820e-01 -6.62761146e-01]\n",
      " [-4.56555113e-01 -6.69261578e-01  7.92281505e-03 -3.51323751e-01\n",
      "   9.62606780e-01 -6.62761146e-01]\n",
      " [-1.49908567e+00 -6.69261578e-01  5.98425392e-02 -6.61055017e-01\n",
      "   5.83956859e-01 -6.62761146e-01]\n",
      " [-3.95229786e-01 -6.69261578e-01 -4.39969091e-02 -1.03892716e+00\n",
      "  -1.02530531e+00 -6.62761146e-01]\n",
      " [-5.79404875e-02 -6.69261578e-01 -7.70873047e-01 -8.80964216e-01\n",
      "   4.89294379e-01 -6.62761146e-01]\n",
      " [-1.06980838e+00 -6.69261578e-01  6.04999643e-01 -7.91142149e-01\n",
      "  -6.46655385e-01 -6.62761146e-01]\n",
      " [ 1.90446998e+00 -6.69261578e-01  1.25399619e+00  2.99687124e+00\n",
      "   1.24659422e+00 -6.62761146e-01]\n",
      " [ 1.53651801e+00 -6.69261578e-01  1.61743426e+00 -4.46897970e-02\n",
      "  -5.51992905e-01  1.50883920e+00]\n",
      " [ 4.93987455e-01 -6.69261578e-01  7.92281505e-03 -7.47779771e-01\n",
      "  -1.73342983e-01 -6.62761146e-01]\n",
      " [-1.62173632e+00 -2.03972480e-01  5.66059850e-01 -6.45568453e-01\n",
      "   1.43591918e+00 -6.62761146e-01]\n",
      " [ 1.01525273e+00  1.16340773e+00 -2.38695875e-01  1.07034276e+00\n",
      "   6.78619339e-01 -6.62761146e-01]\n",
      " [-1.16179637e+00 -6.69261578e-01 -2.38695875e-01 -5.46454448e-01\n",
      "   2.05306938e-01 -6.62761146e-01]\n",
      " [-7.32519084e-01 -6.69261578e-01  9.03538057e-01 -8.53088402e-01\n",
      "  -1.73342983e-01 -6.62761146e-01]\n",
      " [-6.40531094e-01 -6.69261578e-01  9.81417643e-01 -9.39813156e-01\n",
      "   9.62606780e-01 -6.62761146e-01]\n",
      " [ 4.63324792e-01  1.26786038e+00  8.12678539e-01 -2.92474810e-01\n",
      "  -7.41317865e-01 -6.62761146e-01]\n",
      " [-3.33904459e-01  5.17700406e-01  1.63681987e-01  6.33621676e-01\n",
      "  -4.57330424e-01 -6.62761146e-01]\n",
      " [-7.32519084e-01  1.09385484e-01 -1.67946822e+00 -6.02206076e-01\n",
      "  -1.02530531e+00 -6.62761146e-01]\n",
      " [-7.93844411e-01 -6.69261578e-01  5.53079919e-01 -6.48665766e-01\n",
      "  -3.62667944e-01 -6.62761146e-01]\n",
      " [-8.85832401e-01 -6.69261578e-01  1.43571523e+00 -7.94239461e-01\n",
      "  -2.68005464e-01 -6.62761146e-01]\n",
      " [ 5.55312782e-01 -6.69261578e-01 -7.18953323e-01 -2.83182872e-01\n",
      "  -9.30642826e-01  1.50883920e+00]\n",
      " [-5.48543103e-01  1.18881179e-01  1.57849447e+00 -9.61494345e-01\n",
      "   1.10644458e-01 -6.62761146e-01]\n",
      " [ 1.84314465e+00  1.15391203e+00  6.17979574e-01  2.86722658e-01\n",
      "   1.81456910e+00  1.50883920e+00]\n",
      " [-8.24507074e-01  4.22743447e-01  1.60445433e+00 -4.53535068e-01\n",
      "  -1.02530531e+00 -6.62761146e-01]\n",
      " [ 9.53728299e-02 -6.69261578e-01 -4.33394840e-01 -1.21857130e+00\n",
      "  -1.73342983e-01 -6.62761146e-01]\n",
      " [ 2.48686147e-01 -6.69261578e-01 -4.07434978e-01 -6.48665766e-01\n",
      "  -4.57330424e-01 -6.62761146e-01]\n",
      " [-2.41916468e-01  1.37872571e-01 -2.12736013e-01  4.10615164e-01\n",
      "  -6.46655385e-01 -6.62761146e-01]\n",
      " [-5.48543103e-01  1.09385484e-01 -1.52370905e+00 -7.52204504e-03\n",
      "  -9.30642826e-01 -6.62761146e-01]\n",
      " [ 1.32187937e+00 -3.30499545e-02  2.15601712e-01 -4.72118944e-01\n",
      "   1.71990662e+00 -6.62761146e-01]\n",
      " [-3.03241795e-01 -2.51450959e-01 -2.12736013e-01 -1.96458117e-01\n",
      "  -9.30642826e-01 -6.62761146e-01]\n",
      " [-7.32519084e-01  1.94846746e-01  1.26697613e+00  1.16945677e+00\n",
      "   1.59819772e-02  1.50883920e+00]\n",
      " [ 9.53927407e-01  1.91356770e+00  1.34485571e+00 -6.92028143e-01\n",
      "  -4.57330424e-01 -6.62761146e-01]\n",
      " [-3.03241795e-01  1.29634747e+00  7.73738746e-01  2.77696204e+00\n",
      "   2.28788150e+00  1.50883920e+00]\n",
      " [-1.80591141e-01 -6.69261578e-01 -2.90615599e-01 -3.63713001e-01\n",
      "   1.34125670e+00  1.50883920e+00]\n",
      " [-2.11253805e-01  2.03701174e+00  1.69531385e+00 -1.01105135e+00\n",
      "  -4.57330424e-01 -6.62761146e-01]\n",
      " [-6.71193757e-01  2.23333834e-01 -8.48752633e-01  4.44685604e-01\n",
      "  -1.02530531e+00 -6.62761146e-01]\n",
      " [-3.33904459e-01 -6.69261578e-01  8.38638401e-01 -9.36715844e-01\n",
      "  -1.73342983e-01 -6.62761146e-01]\n",
      " [-7.93844411e-01 -3.08425135e-01 -1.49774919e+00 -4.93800133e-01\n",
      "  -6.46655385e-01 -6.62761146e-01]\n",
      " [ 2.18023484e-01 -6.69261578e-01  1.15015675e+00  1.88183868e+00\n",
      "  -7.41317865e-01 -6.62761146e-01]\n",
      " [-3.95229786e-01 -6.69261578e-01 -8.29367022e-02  1.42963103e+00\n",
      "   1.10644458e-01  1.50883920e+00]\n",
      " [ 1.56698157e-01  4.70221927e-01 -4.85314564e-01  6.68134589e-02\n",
      "  -1.02530531e+00 -6.62761146e-01]\n",
      " [ 4.93987455e-01 -6.69261578e-01  2.67521436e-01 -1.00175941e+00\n",
      "  -9.30642826e-01 -6.62761146e-01]\n",
      " [-6.71193757e-01 -6.15370421e-02 -1.53668898e+00 -6.48665766e-01\n",
      "  -1.73342983e-01 -6.62761146e-01]\n",
      " [ 1.90446998e+00 -6.69261578e-01 -1.01749174e+00  5.53091547e-01\n",
      "   1.59819772e-02  1.50883920e+00]\n",
      " [-1.00848306e+00 -5.17330444e-01 -3.55515254e-01  8.44238937e-01\n",
      "  -9.30642826e-01 -6.62761146e-01]\n",
      " [-2.72579132e-01  9.92485199e-01  3.97320746e-01 -7.23001270e-01\n",
      "   3.94631898e-01  1.50883920e+00]\n",
      " [ 6.77963436e-01 -6.69261578e-01  4.88180263e-01 -1.12874923e+00\n",
      "   8.67944300e-01  1.50883920e+00]\n",
      " [ 2.18023484e-01 -1.18511217e-01  1.11762263e-01  2.56324746e+00\n",
      "   1.10644458e-01  1.50883920e+00]\n",
      " [ 1.59784334e+00  3.83169826e+00  5.92019712e-01 -7.29195895e-01\n",
      "  -9.30642826e-01  1.50883920e+00]\n",
      " [ 1.22989138e+00 -6.69261578e-01 -9.59166333e-02 -1.01724597e+00\n",
      "   1.43591918e+00  1.50883920e+00]\n",
      " [-3.95229786e-01  1.97054187e+00 -7.57893116e-01  1.20042989e+00\n",
      "  -9.30642826e-01 -6.62761146e-01]\n",
      " [ 2.21109661e+00  2.89162437e+00 -6.80013530e-01  5.00437232e-01\n",
      "  -7.41317865e-01 -6.62761146e-01]\n",
      " [-3.03241795e-01 -6.69261578e-01 -1.34856426e-01 -1.08538685e+00\n",
      "  -8.35980346e-01 -6.62761146e-01]\n",
      " [-2.72778240e-02  7.55092803e-01  1.44869516e+00  9.03087878e-01\n",
      "   1.53058166e+00  1.50883920e+00]\n",
      " [-2.72579132e-01 -6.69261578e-01  1.07227716e+00 -7.97336774e-01\n",
      "   5.83956859e-01 -6.62761146e-01]\n",
      " [-5.48543103e-01 -6.69261578e-01  1.04631730e+00 -5.83622200e-01\n",
      "   3.13984383e+00 -6.62761146e-01]\n",
      " [-1.80591141e-01  6.60135844e-01  9.03538057e-01 -1.06370566e+00\n",
      "  -3.62667944e-01 -6.62761146e-01]\n",
      " [ 3.38483947e-03 -6.69261578e-01 -6.02133944e-01 -7.26098583e-01\n",
      "   2.85585639e+00 -6.62761146e-01]\n",
      " [ 6.77963436e-01 -9.00241297e-02 -6.41073737e-01 -7.35390521e-01\n",
      "  -1.02530531e+00 -6.62761146e-01]\n",
      " [-9.47157728e-01 -6.69261578e-01 -9.91531875e-01 -9.36715844e-01\n",
      "  -6.46655385e-01 -6.62761146e-01]\n",
      " [ 1.87360820e-01  8.02571282e-01  4.36260539e-01  3.23890410e-01\n",
      "  -3.62667944e-01 -6.62761146e-01]\n",
      " [-1.49928478e-01 -6.69261578e-01  1.50702056e-01  5.15923795e-01\n",
      "   2.99969418e-01  1.50883920e+00]\n",
      " [ 4.32662128e-01 -6.69261578e-01 -5.76174082e-01  5.99551237e-01\n",
      "   2.85585639e+00 -6.62761146e-01]\n",
      " [ 1.65916867e+00 -6.69261578e-01 -1.06941146e+00 -5.18578634e-01\n",
      "  -9.30642826e-01 -6.62761146e-01]\n",
      " [ 5.55312782e-01  6.60135844e-01 -3.29555392e-01 -2.55307058e-01\n",
      "  -5.51992905e-01 -6.62761146e-01]\n",
      " [-4.87217776e-01 -6.69261578e-01 -4.04181567e+00 -5.83622200e-01\n",
      "  -7.41317865e-01 -6.62761146e-01]\n",
      " [-1.22312170e+00 -6.69261578e-01 -4.46374771e-01 -6.30081890e-01\n",
      "  -6.46655385e-01 -6.62761146e-01]\n",
      " [ 1.56718068e+00  4.82874633e+00  1.46167509e+00  6.46010927e-01\n",
      "  -3.62667944e-01  1.50883920e+00]\n",
      " [-8.24507074e-01  8.08983960e-02  2.80501367e-01  7.57514183e-01\n",
      "   8.67944300e-01 -6.62761146e-01]\n",
      " [-5.79205767e-01 -6.69261578e-01  2.28581643e-01  5.31410358e-01\n",
      "   1.34125670e+00  1.50883920e+00]\n",
      " [-4.25892449e-01 -6.69261578e-01 -3.68495185e-01 -9.67688970e-01\n",
      "  -2.68005464e-01 -6.62761146e-01]\n",
      " [-5.48543103e-01 -6.69261578e-01  1.03333737e+00 -4.62827006e-01\n",
      "  -7.86805031e-02  1.50883920e+00]\n",
      " [ 6.16638109e-01 -6.69261578e-01 -1.47836357e-01  8.28752374e-01\n",
      "  -4.57330424e-01  1.50883920e+00]\n",
      " [-2.72778240e-02 -6.69261578e-01 -5.63194151e-01 -1.19025301e-01\n",
      "  -4.57330424e-01 -6.62761146e-01]\n",
      " [-1.03914572e+00 -1.75485392e-01  2.02621781e-01 -1.01414866e+00\n",
      "  -6.46655385e-01 -6.62761146e-01]\n",
      " [ 1.01525273e+00  5.27196102e-01  2.09027461e-02 -4.81410882e-01\n",
      "   4.89294379e-01 -6.62761146e-01]\n",
      " [-4.87217776e-01 -6.69261578e-01 -8.87692427e-01 -9.49105094e-01\n",
      "  -1.02530531e+00 -6.62761146e-01]\n",
      " [-1.80571231e+00 -6.69261578e-01  1.89641850e-01 -3.17253311e-01\n",
      "   8.67944300e-01 -6.62761146e-01]\n",
      " [-2.11253805e-01 -6.69261578e-01  2.15601712e-01 -7.29195895e-01\n",
      "   9.62606780e-01  1.50883920e+00]\n",
      " [-6.71193757e-01 -6.69261578e-01 -7.44913185e-01  1.78316715e-01\n",
      "  -1.02530531e+00 -6.62761146e-01]\n",
      " [-1.00848306e+00 -4.50860573e-01 -8.74712496e-01 -4.69021632e-01\n",
      "  -1.73342983e-01 -6.62761146e-01]\n",
      " [-1.25378436e+00 -6.69261578e-01 -6.41073737e-01 -5.58843699e-01\n",
      "   8.67944300e-01 -6.62761146e-01]\n",
      " [-7.32519084e-01 -6.69261578e-01 -5.11274426e-01  1.86325480e+00\n",
      "  -9.30642826e-01 -6.62761146e-01]\n",
      " [-4.87217776e-01  1.14441633e+00  3.32421091e-01  6.73886741e-01\n",
      "  -2.68005464e-01  1.50883920e+00]\n",
      " [-1.10047105e+00 -2.03972480e-01 -4.33394840e-01 -5.80524888e-01\n",
      "  -3.62667944e-01 -6.62761146e-01]\n",
      " [ 6.47300773e-01 -6.69261578e-01  1.66935399e+00  4.69464105e-01\n",
      "  -9.30642826e-01  1.50883920e+00]\n",
      " [-1.49928478e-01  3.27786489e-01 -6.28093806e-01 -1.19689011e+00\n",
      "  -7.41317865e-01 -6.62761146e-01]\n",
      " [-4.25892449e-01  1.09385484e-01 -4.39969091e-02  1.01459113e+00\n",
      "  -7.41317865e-01 -6.62761146e-01]]\n"
     ]
    }
   ],
   "source": [
    "print(X_test)"
   ]
  },
  {
   "cell_type": "markdown",
   "id": "rocky-prospect",
   "metadata": {},
   "source": [
    "ML MODELING"
   ]
  },
  {
   "cell_type": "markdown",
   "id": "monthly-spine",
   "metadata": {},
   "source": [
    "(1)KNN\n"
   ]
  },
  {
   "cell_type": "code",
   "execution_count": 52,
   "id": "herbal-model",
   "metadata": {},
   "outputs": [
    {
     "data": {
      "text/plain": [
       "KNeighborsClassifier()"
      ]
     },
     "execution_count": 52,
     "metadata": {},
     "output_type": "execute_result"
    }
   ],
   "source": [
    "kn_classifier = KNeighborsClassifier(n_neighbors =5,metric = 'minkowski',p = 2)\n",
    "kn_classifier.fit(X_train,y_train)\n"
   ]
  },
  {
   "cell_type": "code",
   "execution_count": 53,
   "id": "casual-foundation",
   "metadata": {},
   "outputs": [],
   "source": [
    "kn_y_pred = kn_classifier.predict(X_test)"
   ]
  },
  {
   "cell_type": "code",
   "execution_count": 54,
   "id": "seeing-battle",
   "metadata": {},
   "outputs": [
    {
     "name": "stdout",
     "output_type": "stream",
     "text": [
      "[[107   0]\n",
      " [  1  46]]\n"
     ]
    }
   ],
   "source": [
    "cm_kn = confusion_matrix(y_test, kn_y_pred)\n",
    "print(cm_kn)"
   ]
  },
  {
   "cell_type": "code",
   "execution_count": 55,
   "id": "dependent-gospel",
   "metadata": {},
   "outputs": [
    {
     "name": "stdout",
     "output_type": "stream",
     "text": [
      "Correct: 153\n",
      "Incorrect :  1\n",
      "Accuracy: 0.9935064935064936\n"
     ]
    }
   ],
   "source": [
    "print(\"Correct:\",sum(kn_y_pred == y_test))\n",
    "print(\"Incorrect : \",sum(kn_y_pred != y_test))\n",
    "print(\"Accuracy:\",sum(kn_y_pred ==y_test)/len(kn_y_pred))"
   ]
  },
  {
   "cell_type": "markdown",
   "id": "introductory-scoop",
   "metadata": {},
   "source": [
    "(2)SVM"
   ]
  },
  {
   "cell_type": "code",
   "execution_count": 56,
   "id": "sought-chain",
   "metadata": {},
   "outputs": [
    {
     "data": {
      "text/plain": [
       "SVC(kernel='linear', random_state=0)"
      ]
     },
     "execution_count": 56,
     "metadata": {},
     "output_type": "execute_result"
    }
   ],
   "source": [
    "svc_classifier = SVC(kernel =\"linear\",random_state = 0)\n",
    "svc_classifier.fit(X_train,y_train)"
   ]
  },
  {
   "cell_type": "code",
   "execution_count": 57,
   "id": "valid-wonder",
   "metadata": {},
   "outputs": [],
   "source": [
    "svc_y_pred = svc_classifier.predict(X_test)"
   ]
  },
  {
   "cell_type": "code",
   "execution_count": 58,
   "id": "isolated-development",
   "metadata": {},
   "outputs": [
    {
     "name": "stdout",
     "output_type": "stream",
     "text": [
      "[[107   0]\n",
      " [  0  47]]\n"
     ]
    }
   ],
   "source": [
    "svc_cm = confusion_matrix(y_test,svc_y_pred)\n",
    "print(svc_cm)"
   ]
  },
  {
   "cell_type": "code",
   "execution_count": 59,
   "id": "protected-identification",
   "metadata": {},
   "outputs": [
    {
     "name": "stdout",
     "output_type": "stream",
     "text": [
      "Correct: 154\n",
      "Incorrect :  0\n",
      "Accuracy: 1.0\n"
     ]
    }
   ],
   "source": [
    "print(\"Correct:\",sum(svc_y_pred == y_test))\n",
    "print(\"Incorrect : \",sum(svc_y_pred != y_test))\n",
    "print(\"Accuracy:\",sum(svc_y_pred ==y_test)/len(kn_y_pred))"
   ]
  },
  {
   "cell_type": "markdown",
   "id": "artistic-outline",
   "metadata": {},
   "source": [
    "(3)naive bias"
   ]
  },
  {
   "cell_type": "code",
   "execution_count": 60,
   "id": "amazing-murder",
   "metadata": {},
   "outputs": [
    {
     "data": {
      "text/plain": [
       "GaussianNB()"
      ]
     },
     "execution_count": 60,
     "metadata": {},
     "output_type": "execute_result"
    }
   ],
   "source": [
    "nb_classifier = GaussianNB()\n",
    "nb_classifier.fit(X_train,y_train)"
   ]
  },
  {
   "cell_type": "code",
   "execution_count": 61,
   "id": "studied-cornell",
   "metadata": {},
   "outputs": [],
   "source": [
    "nb_y_pred =nb_classifier.predict(X_test)"
   ]
  },
  {
   "cell_type": "code",
   "execution_count": 62,
   "id": "italic-genesis",
   "metadata": {},
   "outputs": [
    {
     "name": "stdout",
     "output_type": "stream",
     "text": [
      "[[107   0]\n",
      " [  0  47]]\n"
     ]
    }
   ],
   "source": [
    "nb_cm = confusion_matrix(nb_y_pred,y_test)\n",
    "print(nb_cm)"
   ]
  },
  {
   "cell_type": "code",
   "execution_count": 63,
   "id": "eight-encounter",
   "metadata": {},
   "outputs": [
    {
     "name": "stdout",
     "output_type": "stream",
     "text": [
      "Correct: 154\n",
      "Incorrect :  0\n",
      "Accuracy: 1.0\n"
     ]
    }
   ],
   "source": [
    "print(\"Correct:\",sum(nb_y_pred == y_test))\n",
    "print(\"Incorrect : \",sum(nb_y_pred != y_test))\n",
    "print(\"Accuracy:\",sum(nb_y_pred ==y_test)/len(nb_y_pred))"
   ]
  },
  {
   "cell_type": "markdown",
   "id": "international-partition",
   "metadata": {},
   "source": [
    "Result:\n",
    "the dataset consists of 768 records and 9 columns\n",
    "\n",
    "the ml model KNN was able to classify patients as diabetic or not with an accuracy of 99.35%\n",
    "\n",
    "the ml model SVM,NaiveBias were able to classify patients as diabetic or not with an accuracy of 100%"
   ]
  },
  {
   "cell_type": "code",
   "execution_count": null,
   "id": "expected-firmware",
   "metadata": {},
   "outputs": [],
   "source": []
  },
  {
   "cell_type": "code",
   "execution_count": null,
   "id": "tutorial-dancing",
   "metadata": {},
   "outputs": [],
   "source": []
  }
 ],
 "metadata": {
  "kernelspec": {
   "display_name": "Python 3",
   "language": "python",
   "name": "python3"
  },
  "language_info": {
   "codemirror_mode": {
    "name": "ipython",
    "version": 3
   },
   "file_extension": ".py",
   "mimetype": "text/x-python",
   "name": "python",
   "nbconvert_exporter": "python",
   "pygments_lexer": "ipython3",
   "version": "3.8.5"
  }
 },
 "nbformat": 4,
 "nbformat_minor": 5
}
